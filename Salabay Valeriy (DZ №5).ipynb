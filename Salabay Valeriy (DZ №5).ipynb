{
 "cells": [
  {
   "cell_type": "markdown",
   "id": "face7336",
   "metadata": {},
   "source": [
    "# Домашнее задание №5"
   ]
  },
  {
   "cell_type": "markdown",
   "id": "0bfa1f46",
   "metadata": {},
   "source": [
    "# Выполнил Салабай В.Р. (ФПэ-01-22)"
   ]
  },
  {
   "cell_type": "markdown",
   "id": "ca3e72ee",
   "metadata": {},
   "source": [
    "Задание №1 \n",
    "\n",
    "\n",
    "Оценить расходы в цилиндр высокого давления и в конденсатор турбины без промежуточного переграва пара.\n",
    "\n",
    "Заданные параметр:\n",
    "Номинальная электрическая мощность: 250 МВт; \n",
    "Начальное давление свежего пара: 23.5 МПа;\n",
    "Начальная температура свежено пара: 540 C;\n",
    "Конечное давление пара: 6.9 кПа;\n",
    "Температура питательной воды: 263 C;\n",
    "Число отборов: 8;\n",
    "Механическое КПД: 99.2%;\n",
    "КПД Электрогенератора: 99%;"
   ]
  },
  {
   "cell_type": "code",
   "execution_count": 84,
   "id": "5c9280df-728d-499d-b22d-0b2cfa90fb28",
   "metadata": {},
   "outputs": [],
   "source": [
    "#Загружаем библиотеки\n",
    "import iapws\n",
    "from iapws import IAPWS97 as gas"
   ]
  },
  {
   "cell_type": "code",
   "execution_count": 85,
   "id": "0b92996b-7328-4e74-8cef-df725f247b80",
   "metadata": {},
   "outputs": [],
   "source": [
    "#СИ\n",
    "MPa = 10 ** 6\n",
    "kPa = 10 ** 3\n",
    "MBт = 10 ** 6\n",
    "unit = 1 / MPa\n",
    "to_kelvin = lambda x: x + 273.15 if x else None"
   ]
  },
  {
   "cell_type": "code",
   "execution_count": 86,
   "id": "4a0750c8-6d91-491b-989e-deaced818421",
   "metadata": {},
   "outputs": [],
   "source": [
    "# Исходные данные\n",
    "electric_power = 250 * MBt \n",
    "p_0 = 23.5 * MPa \n",
    "t_0 = 540 \n",
    "p_k = 6.9 * kPa \n",
    "z = 7\n",
    "t_feed_water = 263\n",
    "p_feed_water = 1.35 * p_0 #  рпв=(1,33-1,35)р0 при сверхкритических параметрах пара\n",
    "t_nas_0 = 374.2 #– температура насыщения при давлении  пара р0 (при сверхкритическом давлении 374,2 С) \n",
    "mechanical_kpd = 0.992\n",
    "generator_kpd = 0.99 \n",
    "internal_kpd = 0.85 "
   ]
  },
  {
   "cell_type": "code",
   "execution_count": 87,
   "id": "509914f0-9870-46ae-84bd-a0ea46155f75",
   "metadata": {},
   "outputs": [],
   "source": [
    "# Определение параметров точек цикла,необходимые для расчета\n",
    "delta_CVD = 0.05 * p_0 \n",
    "real_p_0 = p_0 - delta_CVD\n",
    "teor_point_0 = gas(P = p_0 * unit, T=to_kelvin(t_0))\n",
    "point_0 = gas(P=real_p_0 * unit, h=teor_point_0.h)\n",
    "point_feed_water = gas(P=p_feed_water * unit, T=to_kelvin(t_feed_water))\n",
    "point_k_kip_water = gas(P=p_k * unit, x=0)\n",
    "teor_point_k = gas(P=p_k * unit, s = teor_point_0.s)\n",
    "heat_drop_i = ( teor_point_0.h - teor_point_k.h) * internal_kpd\n",
    "h_k = teor_point_0.h - heat_drop_i\n",
    "point_k = gas(P = p_k * unit, h = h_k)"
   ]
  },
  {
   "cell_type": "code",
   "execution_count": 88,
   "id": "9024f1d4-e0fb-4ec6-8785-7c39e0be21ce",
   "metadata": {},
   "outputs": [
    {
     "data": {
      "text/plain": [
       "0.85"
      ]
     },
     "execution_count": 88,
     "metadata": {},
     "output_type": "execute_result"
    }
   ],
   "source": [
    "# Расчет относительного КПД ЦВД\n",
    "kpd_oi = (teor_point_0.h - point_k.h)/(teor_point_0.h - teor_point_k.h)\n",
    "kpd_oi"
   ]
  },
  {
   "cell_type": "code",
   "execution_count": 89,
   "id": "0b317d5b-16c7-4780-b25c-fbf5941aac44",
   "metadata": {},
   "outputs": [
    {
     "data": {
      "text/plain": [
       "0.14709057780648582"
      ]
     },
     "execution_count": 89,
     "metadata": {},
     "output_type": "execute_result"
    }
   ],
   "source": [
    "# Расчет коэфициетна кси с бесконечным числом отборов  \n",
    "numenator_without = point_k.T * (teor_point_0.s - point_k_kip_water.s)\n",
    "denumenator_without = teor_point_0.h - point_k_kip_water.h\n",
    "without_part = 1 - (numenator_without/denumenator_without)\n",
    "numenator_inf = point_k.T * (teor_point_0.s - point_feed_water.s)\n",
    "denumenator_inf =  teor_point_0.h - point_feed_water.h\n",
    "inf_part = 1 - (numenator_inf / denumenator_inf)\n",
    "ksi_inf = 1 - (without_part / inf_part)\n",
    "ksi_inf"
   ]
  },
  {
   "cell_type": "code",
   "execution_count": 90,
   "id": "de6a4eb0-310c-4860-8421-0bf43450afcb",
   "metadata": {},
   "outputs": [
    {
     "data": {
      "text/plain": [
       "0.668521593152601"
      ]
     },
     "execution_count": 90,
     "metadata": {},
     "output_type": "execute_result"
    }
   ],
   "source": [
    "# \"x\" -----> ((t_пв__t_k)(t_nas_0__t_k))\n",
    "x = (point_feed_water.T - point_k.T) / (to_kelvin(t_nas_0) - point_k.T)\n",
    "x"
   ]
  },
  {
   "attachments": {},
   "cell_type": "markdown",
   "id": "0947d763",
   "metadata": {},
   "source": [
    "![image.png](https://s.iimg.su/s/26/th_Yob43C4AKM0uH1xWJQpcIzxeocyldc1YxZL9ugLm.png)"
   ]
  },
  {
   "cell_type": "code",
   "execution_count": 91,
   "id": "05fb766a-613e-4b86-846e-ecf1298c21ea",
   "metadata": {},
   "outputs": [
    {
     "data": {
      "text/plain": [
       "0.1264978969135778"
      ]
     },
     "execution_count": 91,
     "metadata": {},
     "output_type": "execute_result"
    }
   ],
   "source": [
    "# Расчет коэфициетна кси с 7 числом отборов  \n",
    "ksi = 0.86 * ksi_inf\n",
    "ksi"
   ]
  },
  {
   "cell_type": "code",
   "execution_count": 92,
   "id": "9e478204-c8d0-434d-933d-c005e51725a5",
   "metadata": {},
   "outputs": [
    {
     "data": {
      "text/plain": [
       "(0.42566658122520085, 1195.0407456230168, 3162.594730353387)"
      ]
     },
     "execution_count": 92,
     "metadata": {},
     "output_type": "execute_result"
    }
   ],
   "source": [
    "eff_num = (teor_point_0.h - teor_point_k.h) * internal_kpd\n",
    "eff_denum =  teor_point_0.h - point_k_kip_water.h\n",
    "kpd = (eff_num / eff_denum) * (1 + ksi)\n",
    "kpd,eff_num,eff_denum"
   ]
  },
  {
   "cell_type": "code",
   "execution_count": 93,
   "id": "4b1f5b88-2c82-480c-8878-2a38e77ebc3c",
   "metadata": {},
   "outputs": [
    {
     "data": {
      "text/plain": [
       "926.282537747384"
      ]
     },
     "execution_count": 93,
     "metadata": {},
     "output_type": "execute_result"
    }
   ],
   "source": [
    "estimated_heat_drop = kpd * (teor_point_0.h - point_feed_water.h)\n",
    "estimated_heat_drop"
   ]
  },
  {
   "cell_type": "code",
   "execution_count": 94,
   "id": "37f5ca62-fe93-48b6-a296-a3222f5e1342",
   "metadata": {},
   "outputs": [
    {
     "data": {
      "text/plain": [
       "274.8208415072751"
      ]
     },
     "execution_count": 94,
     "metadata": {},
     "output_type": "execute_result"
    }
   ],
   "source": [
    "vhod_mass_flow = electric_power / (estimated_heat_drop * 1000 * mechanical_kpd * generator_kpd)\n",
    "vhod_mass_flow"
   ]
  },
  {
   "cell_type": "code",
   "execution_count": 95,
   "id": "fafb1bf7-d2ba-4c30-87de-7e673a27d91d",
   "metadata": {},
   "outputs": [
    {
     "data": {
      "text/plain": [
       "174.5665451005368"
      ]
     },
     "execution_count": 95,
     "metadata": {},
     "output_type": "execute_result"
    }
   ],
   "source": [
    "mass_flow_denum = 1000 * (point_k.h - point_k_kip_water.h) * mechanical_kpd * generator_kpd\n",
    "mass_flow_factor = (1/kpd) - 1\n",
    "condensator_mass_flow = (electric_power * mass_flow_factor)/mass_flow_denum\n",
    "condensator_mass_flow"
   ]
  },
  {
   "cell_type": "code",
   "execution_count": 96,
   "id": "9a7d191c-436e-49f2-81d6-527de0e3041f",
   "metadata": {},
   "outputs": [
    {
     "name": "stdout",
     "output_type": "stream",
     "text": [
      "Массовый расход (турбина: вход) 274.8208415072751\n"
     ]
    }
   ],
   "source": [
    "print(\"Массовый расход (турбина: вход)\", vhod_mass_flow)"
   ]
  },
  {
   "cell_type": "code",
   "execution_count": 83,
   "id": "11058bff-9d54-4397-9c21-5276b315292a",
   "metadata": {},
   "outputs": [
    {
     "name": "stdout",
     "output_type": "stream",
     "text": [
      "Массовый расход (конденсатор): 174.5665451005368\n"
     ]
    }
   ],
   "source": [
    "print(\"Массовый расход (конденсатор):\", condensator_mass_flow)"
   ]
  },
  {
   "cell_type": "code",
   "execution_count": null,
   "id": "37004726",
   "metadata": {},
   "outputs": [],
   "source": []
  },
  {
   "cell_type": "markdown",
   "id": "4e164a7d",
   "metadata": {},
   "source": []
  }
 ],
 "metadata": {
  "kernelspec": {
   "display_name": "Python 3 (ipykernel)",
   "language": "python",
   "name": "python3"
  },
  "language_info": {
   "codemirror_mode": {
    "name": "ipython",
    "version": 3
   },
   "file_extension": ".py",
   "mimetype": "text/x-python",
   "name": "python",
   "nbconvert_exporter": "python",
   "pygments_lexer": "ipython3",
   "version": "3.11.0"
  }
 },
 "nbformat": 4,
 "nbformat_minor": 5
}
