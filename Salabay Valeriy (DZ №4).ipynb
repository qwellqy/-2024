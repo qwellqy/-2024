{
 "cells": [
  {
   "cell_type": "markdown",
   "id": "1bf3417b",
   "metadata": {},
   "source": [
    "# Домашнее задание №4"
   ]
  },
  {
   "cell_type": "markdown",
   "id": "e4214e88",
   "metadata": {},
   "source": [
    "# Выполнил Салабай В.Р. (ФПэ-01-22)"
   ]
  },
  {
   "cell_type": "markdown",
   "id": "0108e260-161e-45f1-bad2-97e49213c446",
   "metadata": {},
   "source": [
    "По аналогии с решением задач из практики, построить график зависимости $\\eta_{oi} = f(H_0)$ в диапазоне $H_0$ = (50 - 150) $\\frac {kJ}{kg}$. $\\eta_{ол}$ = 78%. $u = 160 m/s$. Все остальные переменные и условия принять такие же как на практическом заняти."
   ]
  },
  {
   "cell_type": "code",
   "execution_count": 100,
   "id": "463411e0",
   "metadata": {},
   "outputs": [],
   "source": [
    "#Загружаем библиотеки\n",
    "import iapws\n",
    "from iapws import IAPWS97 as gas\n",
    "import math\n",
    "import matplotlib.pyplot as plt\n",
    "import numpy as np"
   ]
  },
  {
   "cell_type": "code",
   "execution_count": 101,
   "id": "4da33aa8-049b-485c-821b-884bd03f3ae6",
   "metadata": {},
   "outputs": [],
   "source": [
    "p = 5 * MPa\n",
    "t = to_kelvin(489)\n",
    "H_0 = range(50,150)\n",
    "u = 160\n",
    "d_r = 1.09\n",
    "s_div_r = 0.2\n",
    "degree__of_reaction = 0.1\n",
    "z_bandage = 2\n",
    "delta_r_bandage = 1.17 / 1000\n",
    "delta_a_bandage = 4 / 1000\n",
    "z_rotor = 5\n",
    "d_leak_rotor = 0.36\n",
    "delta_leak_rotor = 0.4 / 1000\n",
    "e = 0.8\n",
    "sinus_alpha1 = 0.225\n",
    "segments = 4\n",
    "F1 = 0.025\n",
    "K_y = 1\n",
    "mu_r_rotor = 0.8\n",
    "mu_r = mu_r_rotor\n",
    "mu_a = 0.5\n",
    "mu_soplo = 0.97\n",
    "blade_width = 0.035\n",
    "blade_length = 0.035\n",
    "blade_kpd = 0.78"
   ]
  },
  {
   "cell_type": "code",
   "execution_count": 102,
   "id": "f8cc3d5d-3fa0-4572-a7ec-d0662646a789",
   "metadata": {},
   "outputs": [],
   "source": [
    "#СИ\n",
    "MPa = 10 ** 6\n",
    "kPa = 10 ** 3\n",
    "unit = 1 / MPa\n",
    "to_kelvin = lambda x: x + 273.15 if x else None"
   ]
  },
  {
   "cell_type": "code",
   "execution_count": 103,
   "id": "33e8ef13-29e2-4507-a038-4466614831c3",
   "metadata": {},
   "outputs": [],
   "source": [
    "point = gas(P=p * unit, T=t)\n",
    "kinematic_vyazkost = point.nu"
   ]
  },
  {
   "cell_type": "code",
   "execution_count": 104,
   "id": "d4d6841d-7f6c-456a-aae9-457701516bcb",
   "metadata": {},
   "outputs": [],
   "source": [
    "def Re_number1(u, d_r):\n",
    "        return  u * d_r * 0.5 / kinematic_vyazkost"
   ]
  },
  {
   "cell_type": "code",
   "execution_count": 105,
   "id": "4a34bc1c-cd87-4b03-a05f-eb61da9f8ee4",
   "metadata": {},
   "outputs": [],
   "source": [
    "def k_frictions(s_div_r, re):\n",
    "        return 2.5 * 10 ** (-2) * s_div_r ** 0.1 * re **(-0.2)"
   ]
  },
  {
   "cell_type": "code",
   "execution_count": 106,
   "id": "73cb3e15-8e2e-4460-b31f-43b6d9e0cd6d",
   "metadata": {},
   "outputs": [],
   "source": [
    "def friction_loss(s_div_r, d_r, u, kinematic_vyazkost, u_div_dummy_speed, F1):\n",
    "    Re_number = Re_number1(u,d_r)\n",
    "    k = k_frictions(s_div_r, Re_number)\n",
    "    friction_loss_pu = k * d_r ** 2 * u_div_dummy_speed ** 3 / F1 \n",
    "    return friction_loss_pu"
   ]
  },
  {
   "cell_type": "code",
   "execution_count": 107,
   "id": "de1a2eb2-e89e-4833-ad73-40d259a6bafc",
   "metadata": {},
   "outputs": [],
   "source": [
    "def ventilation_loss(m, k, sinus, e, u_div_dummy_speed):\n",
    "    first = k / sinus\n",
    "    second = (1 - e) / e\n",
    "    third = u_div_dummy_speed ** 3\n",
    "    return first * second * third * m"
   ]
  },
  {
   "cell_type": "code",
   "execution_count": 108,
   "id": "fabf7a6b-cbb9-489e-8251-38b0947faec0",
   "metadata": {},
   "outputs": [],
   "source": [
    "def get_segment_loss_pu(B, l, F, u_div_dummy_speed, blade_kpd, segments):\n",
    "    first = 0.25 * B * l / F\n",
    "    second = u_div_dummy_speed * blade_kpd * segments\n",
    "    return first * second"
   ]
  },
  {
   "cell_type": "code",
   "execution_count": 109,
   "id": "6099672f-d474-41d4-b3f4-2360398f1a98",
   "metadata": {},
   "outputs": [],
   "source": [
    "def get_partial_losses_pu(u_div_dummy_speed, blade_width, blade_length, F1, blade_kpd, segments):\n",
    "    ventilation_loss_pu = ventilation_loss(\n",
    "    m = 1,\n",
    "    k = 0.065,\n",
    "    e = e,\n",
    "    u_div_dummy_speed = u_div_dummy_speed,\n",
    "    sinus = sinus_alpha1\n",
    "    )\n",
    "    segment_loss_pu = get_segment_loss_pu(\n",
    "    B = blade_width,\n",
    "    l = blade_length,\n",
    "    F = F1,\n",
    "    u_div_dummy_speed = u_div_dummy_speed,\n",
    "    blade_kpd = blade_kpd,\n",
    "    segments = segments\n",
    "    )\n",
    "    partial_losses_pu = segment_loss_pu + ventilation_loss_pu\n",
    "    return partial_losses_pu"
   ]
  },
  {
   "cell_type": "code",
   "execution_count": 110,
   "id": "89d37a87-c832-4edb-b223-7d5f9d971bca",
   "metadata": {},
   "outputs": [],
   "source": [
    "def compute_equal_gap(z, delta_r, mu_r_rotor, delta_a, mu_a):\n",
    "    first = 1 / (mu_a * delta_a) ** 2\n",
    "    second = z / (mu_r_rotor * delta_r) ** 2\n",
    "    return (first + second) ** (-0.5)"
   ]
  },
  {
   "cell_type": "code",
   "execution_count": 111,
   "id": "35fd3074-a2c2-440e-942b-88bab2d050d3",
   "metadata": {},
   "outputs": [],
   "source": [
    "def bandage_leak_loss(d_shroud, delta_eq, F, dor, l, kpd):\n",
    "    d_avg = d_shroud - l\n",
    "    first = math.pi * d_shroud * delta_eq / F\n",
    "    second = dor + 1.8 * (l / d_avg)\n",
    "    return first * (second) ** 0.5 * kpd"
   ]
  },
  {
   "cell_type": "code",
   "execution_count": 112,
   "id": "1f41927a-d988-4dc1-8e08-8e19d96e62d2",
   "metadata": {},
   "outputs": [],
   "source": [
    "def disk_leak_loss(K, F, mu_r_rotor, mu_soplo, F_soplo, z, kpd):\n",
    "    upper = mu_r_rotor * K * F * kpd\n",
    "    lower = mu_soplo * F_soplo * z ** 0.5\n",
    "    return upper / lower"
   ]
  },
  {
   "cell_type": "code",
   "execution_count": 113,
   "id": "b413f077-2e51-457a-9730-62ae1b1b1b07",
   "metadata": {},
   "outputs": [],
   "source": [
    "def leak_losses(z_bandage, delta_r_bandage, mu_r_rotor, delta_a_bandage, z_rotor, mu_a, mu_soplo, F1, degree__of_reaction, blade_length, delta_leak_rotor, d_leak_rotor, blade_kpd, K_y):\n",
    "    d_shroud = delta_r_bandage / 0.001 \n",
    "    delta_eq_bandage = compute_equal_gap(\n",
    "        z = z_bandage,\n",
    "        delta_r = delta_r_bandage,\n",
    "        mu_r_rotor = mu_r_rotor,\n",
    "        delta_a = delta_a_bandage,\n",
    "        mu_a = mu_a\n",
    "    )\n",
    "    bandage_leak_loss_pu = bandage_leak_loss(\n",
    "        d_shroud = d_shroud,\n",
    "        delta_eq = delta_eq_bandage,\n",
    "        F = F1,\n",
    "        dor = degree__of_reaction,\n",
    "        l = blade_length,\n",
    "        kpd = blade_kpd\n",
    "        )\n",
    "    F_leak_rotor = math.pi * d_leak_rotor * delta_leak_rotor\n",
    "    disk_leak_loss_pu = disk_leak_loss(\n",
    "        K = K_y,\n",
    "        F = F_leak_rotor,\n",
    "        mu_r_rotor = mu_r_rotor,\n",
    "        mu_soplo = mu_soplo,\n",
    "        F_soplo = F1,\n",
    "        z = z_rotor,\n",
    "        kpd = blade_kpd\n",
    "    )\n",
    "    leak_losses_pu = disk_leak_loss_pu + bandage_leak_loss_pu\n",
    "    return leak_losses_pu"
   ]
  },
  {
   "cell_type": "code",
   "execution_count": 114,
   "id": "c60fbe08-9147-41bf-b0f6-ca24a0dd505e",
   "metadata": {},
   "outputs": [],
   "source": [
    "def internal_kpd(blade_kpd, friction_loss_pu, partial_losses_pu, leak_losses_pu):\n",
    "    internal_kpd = blade_kpd - friction_loss_pu - partial_losses_pu - leak_losses_pu\n",
    "    return internal_kpd"
   ]
  },
  {
   "cell_type": "code",
   "execution_count": 115,
   "id": "07679fa0-289e-465e-8ab0-70eedd086a40",
   "metadata": {},
   "outputs": [],
   "source": [
    "leak_losses_pu = leak_losses(\n",
    "    z_bandage = z_bandage,\n",
    "    delta_r_bandage = delta_r_bandage,\n",
    "    mu_r_rotor = mu_r_rotor,\n",
    "    delta_a_bandage = delta_a_bandage,\n",
    "    z_rotor = z_rotor,\n",
    "    mu_a = mu_a,\n",
    "    mu_soplo = mu_soplo,\n",
    "    F1 = F1,\n",
    "    degree__of_reaction = degree__of_reaction,\n",
    "    blade_length = blade_length,\n",
    "    delta_leak_rotor = delta_leak_rotor,\n",
    "    d_leak_rotor  = d_leak_rotor,\n",
    "    blade_kpd = blade_kpd,\n",
    "    K_y = K_y\n",
    ")"
   ]
  },
  {
   "cell_type": "code",
   "execution_count": 116,
   "id": "27906700-89bc-4b9d-97a5-db8c3a44922e",
   "metadata": {},
   "outputs": [],
   "source": [
    "internal_kpd = []\n",
    "for H_0znachenie in H_0:\n",
    "    H_0znachenie=H_0znachenie*1000\n",
    "    dummy_speed = (2 * H_0znachenie) ** 0.5\n",
    "    u_div_dummy_speed = u / dummy_speed\n",
    "    friction_loss_pu = friction_loss(\n",
    "        s_div_r = s_div_r,\n",
    "        d_r = d_r, \n",
    "        u = u,\n",
    "        kinematic_vyazkost = kinematic_vyazkost,\n",
    "        u_div_dummy_speed = u_div_dummy_speed,\n",
    "        F1 = F1\n",
    "    )\n",
    "    partial_losses_pu = get_partial_losses_pu(\n",
    "        u_div_dummy_speed = u_div_dummy_speed,\n",
    "        blade_width = blade_width,\n",
    "        blade_length = blade_length,\n",
    "        F1 = F1,\n",
    "        blade_kpd = blade_kpd,\n",
    "        segments = segments\n",
    "    )\n",
    "    internal_kpd.append(internal_kpd(blade_kpd,friction_loss_pu,partial_losses_pu,leak_losses_pu))"
   ]
  },
  {
   "cell_type": "code",
   "execution_count": 117,
   "id": "139c7198-602b-4542-8046-d4abc4811164",
   "metadata": {},
   "outputs": [
    {
     "data": {
      "image/png": "[encoded data removed]",
      "text/plain": [
       "<Figure size 640x480 with 1 Axes>"
      ]
     },
     "metadata": {},
     "output_type": "display_data"
    }
   ],
   "source": [
    "#Построение графика\n",
    "plt.plot(H_0,internal_kpd)  \n",
    "plt.xlabel(\"$H_{0}$\")\n",
    "plt.ylabel('$\\eta_{oi}$')\n",
    "plt.title(\"Зависимость $\\eta_{oi}$ от значения $H_{0}$\")\n",
    "plt.grid()"
   ]
  },
  {
   "cell_type": "code",
   "execution_count": null,
   "id": "24698eba-6c73-45c3-83b1-982b1c4aae1f",
   "metadata": {},
   "outputs": [],
   "source": []
  }
 ],
 "metadata": {
  "kernelspec": {
   "display_name": "Python 3 (ipykernel)",
   "language": "python",
   "name": "python3"
  },
  "language_info": {
   "codemirror_mode": {
    "name": "ipython",
    "version": 3
   },
   "file_extension": ".py",
   "mimetype": "text/x-python",
   "name": "python",
   "nbconvert_exporter": "python",
   "pygments_lexer": "ipython3",
   "version": "3.11.0"
  }
 },
 "nbformat": 4,
 "nbformat_minor": 5
}
